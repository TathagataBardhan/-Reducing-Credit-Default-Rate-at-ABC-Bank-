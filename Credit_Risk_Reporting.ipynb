{
  "nbformat": 4,
  "nbformat_minor": 5,
  "metadata": {
    "kernelspec": {
      "display_name": "Python 3",
      "language": "python",
      "name": "python3"
    },
    "language_info": {
      "codemirror_mode": {
        "name": "ipython",
        "version": 3
      },
      "file_extension": ".py",
      "mimetype": "text/x-python",
      "name": "python",
      "nbconvert_exporter": "python",
      "pygments_lexer": "ipython3",
      "version": "3.8.8"
    },
    "colab": {
      "provenance": []
    }
  },
  "cells": [
    {
      "cell_type": "code",
      "metadata": {
        "colab": {
          "base_uri": "https://localhost:8080/"
        },
        "id": "85EoC_bPWDJc",
        "outputId": "31d66959-3457-4db2-e46e-42ec1e861c49"
      },
      "source": [
        "from google.colab import drive\n",
        "drive.mount('/content/drive',force_remount=True)"
      ],
      "id": "85EoC_bPWDJc",
      "execution_count": null,
      "outputs": [
        {
          "output_type": "stream",
          "text": [
            "Mounted at /content/drive\n"
          ],
          "name": "stdout"
        }
      ]
    },
    {
      "cell_type": "markdown",
      "metadata": {
        "id": "5bdf711a"
      },
      "source": [
        "# Importing dependencies: -"
      ],
      "id": "5bdf711a"
    },
    {
      "cell_type": "code",
      "metadata": {
        "id": "2de72064"
      },
      "source": [
        "import numpy as np\n",
        "import pandas as pd\n",
        "import matplotlib.pyplot as plt\n",
        "import os\n",
        "import seaborn as sns\n",
        "import warnings\n",
        "warnings.filterwarnings(\"ignore\")"
      ],
      "id": "2de72064",
      "execution_count": null,
      "outputs": []
    },
    {
      "cell_type": "markdown",
      "metadata": {
        "id": "3dcf407a"
      },
      "source": [
        "# Importing the dataset: -"
      ],
      "id": "3dcf407a"
    },
    {
      "cell_type": "code",
      "metadata": {
        "colab": {
          "base_uri": "https://localhost:8080/",
          "height": 224
        },
        "id": "1ced625d",
        "outputId": "085d8c9a-5f66-44c1-90bd-4542696af9e7"
      },
      "source": [
        "dataset=pd.read_excel('/content/drive/My Drive/datasets/case_study_data.xlsx')\n",
        "dataset.head()"
      ],
      "id": "1ced625d",
      "execution_count": null,
      "outputs": [
        {
          "output_type": "execute_result",
          "data": {
            "text/html": [
              "<div>\n",
              "<style scoped>\n",
              "    .dataframe tbody tr th:only-of-type {\n",
              "        vertical-align: middle;\n",
              "    }\n",
              "\n",
              "    .dataframe tbody tr th {\n",
              "        vertical-align: top;\n",
              "    }\n",
              "\n",
              "    .dataframe thead th {\n",
              "        text-align: right;\n",
              "    }\n",
              "</style>\n",
              "<table border=\"1\" class=\"dataframe\">\n",
              "  <thead>\n",
              "    <tr style=\"text-align: right;\">\n",
              "      <th></th>\n",
              "      <th>checkin_acc</th>\n",
              "      <th>duration</th>\n",
              "      <th>credit_history</th>\n",
              "      <th>purpose</th>\n",
              "      <th>amount</th>\n",
              "      <th>svaing_acc</th>\n",
              "      <th>present_emp_since</th>\n",
              "      <th>inst_rate</th>\n",
              "      <th>personal_status</th>\n",
              "      <th>other_debtors</th>\n",
              "      <th>residing_since</th>\n",
              "      <th>property</th>\n",
              "      <th>age</th>\n",
              "      <th>inst_plans</th>\n",
              "      <th>housing</th>\n",
              "      <th>num_credits</th>\n",
              "      <th>job</th>\n",
              "      <th>dependents</th>\n",
              "      <th>telephone</th>\n",
              "      <th>foreign_worker</th>\n",
              "      <th>status</th>\n",
              "    </tr>\n",
              "  </thead>\n",
              "  <tbody>\n",
              "    <tr>\n",
              "      <th>0</th>\n",
              "      <td>A11</td>\n",
              "      <td>9</td>\n",
              "      <td>A34</td>\n",
              "      <td>A43</td>\n",
              "      <td>1754</td>\n",
              "      <td>A65</td>\n",
              "      <td>A75</td>\n",
              "      <td>6</td>\n",
              "      <td>A93</td>\n",
              "      <td>A101</td>\n",
              "      <td>6</td>\n",
              "      <td>A121</td>\n",
              "      <td>101</td>\n",
              "      <td>A143</td>\n",
              "      <td>A152</td>\n",
              "      <td>3</td>\n",
              "      <td>A173</td>\n",
              "      <td>2</td>\n",
              "      <td>A192</td>\n",
              "      <td>A201</td>\n",
              "      <td>1</td>\n",
              "    </tr>\n",
              "    <tr>\n",
              "      <th>1</th>\n",
              "      <td>A12</td>\n",
              "      <td>72</td>\n",
              "      <td>A32</td>\n",
              "      <td>A43</td>\n",
              "      <td>8927</td>\n",
              "      <td>A61</td>\n",
              "      <td>A73</td>\n",
              "      <td>3</td>\n",
              "      <td>A92</td>\n",
              "      <td>A101</td>\n",
              "      <td>3</td>\n",
              "      <td>A121</td>\n",
              "      <td>33</td>\n",
              "      <td>A143</td>\n",
              "      <td>A152</td>\n",
              "      <td>2</td>\n",
              "      <td>A173</td>\n",
              "      <td>2</td>\n",
              "      <td>A191</td>\n",
              "      <td>A201</td>\n",
              "      <td>2</td>\n",
              "    </tr>\n",
              "    <tr>\n",
              "      <th>2</th>\n",
              "      <td>A14</td>\n",
              "      <td>18</td>\n",
              "      <td>A34</td>\n",
              "      <td>A46</td>\n",
              "      <td>3144</td>\n",
              "      <td>A61</td>\n",
              "      <td>A74</td>\n",
              "      <td>3</td>\n",
              "      <td>A93</td>\n",
              "      <td>A101</td>\n",
              "      <td>5</td>\n",
              "      <td>A121</td>\n",
              "      <td>74</td>\n",
              "      <td>A143</td>\n",
              "      <td>A152</td>\n",
              "      <td>2</td>\n",
              "      <td>A172</td>\n",
              "      <td>3</td>\n",
              "      <td>A191</td>\n",
              "      <td>A201</td>\n",
              "      <td>1</td>\n",
              "    </tr>\n",
              "    <tr>\n",
              "      <th>3</th>\n",
              "      <td>A11</td>\n",
              "      <td>63</td>\n",
              "      <td>A32</td>\n",
              "      <td>A42</td>\n",
              "      <td>11823</td>\n",
              "      <td>A61</td>\n",
              "      <td>A74</td>\n",
              "      <td>3</td>\n",
              "      <td>A93</td>\n",
              "      <td>A103</td>\n",
              "      <td>6</td>\n",
              "      <td>A122</td>\n",
              "      <td>68</td>\n",
              "      <td>A143</td>\n",
              "      <td>A153</td>\n",
              "      <td>2</td>\n",
              "      <td>A173</td>\n",
              "      <td>3</td>\n",
              "      <td>A191</td>\n",
              "      <td>A201</td>\n",
              "      <td>1</td>\n",
              "    </tr>\n",
              "    <tr>\n",
              "      <th>4</th>\n",
              "      <td>A11</td>\n",
              "      <td>36</td>\n",
              "      <td>A33</td>\n",
              "      <td>A40</td>\n",
              "      <td>7305</td>\n",
              "      <td>A61</td>\n",
              "      <td>A73</td>\n",
              "      <td>5</td>\n",
              "      <td>A93</td>\n",
              "      <td>A101</td>\n",
              "      <td>6</td>\n",
              "      <td>A124</td>\n",
              "      <td>80</td>\n",
              "      <td>A143</td>\n",
              "      <td>A153</td>\n",
              "      <td>3</td>\n",
              "      <td>A173</td>\n",
              "      <td>3</td>\n",
              "      <td>A191</td>\n",
              "      <td>A201</td>\n",
              "      <td>2</td>\n",
              "    </tr>\n",
              "  </tbody>\n",
              "</table>\n",
              "</div>"
            ],
            "text/plain": [
              "  checkin_acc  duration credit_history  ... telephone  foreign_worker status\n",
              "0         A11         9            A34  ...      A192            A201      1\n",
              "1         A12        72            A32  ...      A191            A201      2\n",
              "2         A14        18            A34  ...      A191            A201      1\n",
              "3         A11        63            A32  ...      A191            A201      1\n",
              "4         A11        36            A33  ...      A191            A201      2\n",
              "\n",
              "[5 rows x 21 columns]"
            ]
          },
          "metadata": {
            "tags": []
          },
          "execution_count": 8
        }
      ]
    },
    {
      "cell_type": "code",
      "metadata": {
        "colab": {
          "base_uri": "https://localhost:8080/"
        },
        "id": "40625057",
        "outputId": "800d3628-c943-45de-de93-8bf84b38c935"
      },
      "source": [
        "print(dataset.shape)"
      ],
      "id": "40625057",
      "execution_count": null,
      "outputs": [
        {
          "output_type": "stream",
          "text": [
            "(1000, 21)\n"
          ],
          "name": "stdout"
        }
      ]
    },
    {
      "cell_type": "code",
      "metadata": {
        "colab": {
          "base_uri": "https://localhost:8080/"
        },
        "id": "4594d7e2",
        "outputId": "2bb5152e-008b-4a57-b61d-177eb7427425"
      },
      "source": [
        "dataset.info()"
      ],
      "id": "4594d7e2",
      "execution_count": null,
      "outputs": [
        {
          "output_type": "stream",
          "text": [
            "<class 'pandas.core.frame.DataFrame'>\n",
            "RangeIndex: 1000 entries, 0 to 999\n",
            "Data columns (total 21 columns):\n",
            " #   Column             Non-Null Count  Dtype \n",
            "---  ------             --------------  ----- \n",
            " 0   checkin_acc        1000 non-null   object\n",
            " 1   duration           1000 non-null   int64 \n",
            " 2   credit_history     1000 non-null   object\n",
            " 3   purpose            1000 non-null   object\n",
            " 4   amount             1000 non-null   int64 \n",
            " 5   svaing_acc         1000 non-null   object\n",
            " 6   present_emp_since  1000 non-null   object\n",
            " 7   inst_rate          1000 non-null   int64 \n",
            " 8   personal_status    1000 non-null   object\n",
            " 9   other_debtors      1000 non-null   object\n",
            " 10  residing_since     1000 non-null   int64 \n",
            " 11  property           1000 non-null   object\n",
            " 12  age                1000 non-null   int64 \n",
            " 13  inst_plans         1000 non-null   object\n",
            " 14  housing            1000 non-null   object\n",
            " 15  num_credits        1000 non-null   int64 \n",
            " 16  job                1000 non-null   object\n",
            " 17  dependents         1000 non-null   int64 \n",
            " 18  telephone          1000 non-null   object\n",
            " 19  foreign_worker     1000 non-null   object\n",
            " 20  status             1000 non-null   int64 \n",
            "dtypes: int64(8), object(13)\n",
            "memory usage: 164.2+ KB\n"
          ],
          "name": "stdout"
        }
      ]
    },
    {
      "cell_type": "markdown",
      "metadata": {
        "id": "b90feea0"
      },
      "source": [
        "# Data pre-processing: -"
      ],
      "id": "b90feea0"
    },
    {
      "cell_type": "markdown",
      "metadata": {
        "id": "77f39206"
      },
      "source": [
        "## Checking presence of Null values"
      ],
      "id": "77f39206"
    },
    {
      "cell_type": "code",
      "metadata": {
        "colab": {
          "base_uri": "https://localhost:8080/"
        },
        "id": "431478ba",
        "outputId": "e34df4e5-0156-4649-8944-146a225f795d"
      },
      "source": [
        "dataset.isnull().sum()"
      ],
      "id": "431478ba",
      "execution_count": null,
      "outputs": [
        {
          "output_type": "execute_result",
          "data": {
            "text/plain": [
              "checkin_acc          0\n",
              "duration             0\n",
              "credit_history       0\n",
              "purpose              0\n",
              "amount               0\n",
              "svaing_acc           0\n",
              "present_emp_since    0\n",
              "inst_rate            0\n",
              "personal_status      0\n",
              "other_debtors        0\n",
              "residing_since       0\n",
              "property             0\n",
              "age                  0\n",
              "inst_plans           0\n",
              "housing              0\n",
              "num_credits          0\n",
              "job                  0\n",
              "dependents           0\n",
              "telephone            0\n",
              "foreign_worker       0\n",
              "status               0\n",
              "dtype: int64"
            ]
          },
          "metadata": {
            "tags": []
          },
          "execution_count": 11
        }
      ]
    },
    {
      "cell_type": "markdown",
      "metadata": {
        "id": "3d265ec3"
      },
      "source": [
        "## Checking presence of duplicate values: -"
      ],
      "id": "3d265ec3"
    },
    {
      "cell_type": "code",
      "metadata": {
        "colab": {
          "base_uri": "https://localhost:8080/"
        },
        "id": "e38c764b",
        "outputId": "d35f3c1a-6802-45a3-92b7-12a02da702e9"
      },
      "source": [
        "dataset.duplicated().sum()"
      ],
      "id": "e38c764b",
      "execution_count": null,
      "outputs": [
        {
          "output_type": "execute_result",
          "data": {
            "text/plain": [
              "0"
            ]
          },
          "metadata": {
            "tags": []
          },
          "execution_count": 12
        }
      ]
    },
    {
      "cell_type": "markdown",
      "metadata": {
        "id": "1f52d195"
      },
      "source": [
        "### Explicit conversion to the suitable data types: -"
      ],
      "id": "1f52d195"
    },
    {
      "cell_type": "code",
      "metadata": {
        "id": "fa4f1ac1"
      },
      "source": [
        "dataset[\"checkin_acc\"]=dataset[\"checkin_acc\"].astype(\"category\")\n",
        "dataset[\"credit_history\"]=dataset[\"credit_history\"].astype(\"category\")\n",
        "dataset[\"purpose\"]=dataset[\"purpose\"].astype(\"category\")\n",
        "dataset[\"svaing_acc\"]=dataset[\"svaing_acc\"].astype(\"category\")\n",
        "dataset[\"present_emp_since\"]=dataset[\"present_emp_since\"].astype(\"category\")\n",
        "dataset[\"personal_status\"]=dataset[\"personal_status\"].astype(\"category\")\n",
        "dataset[\"other_debtors\"]=dataset[\"other_debtors\"].astype(\"category\")\n",
        "dataset[\"property\"]=dataset[\"property\"].astype(\"category\")\n",
        "dataset[\"inst_plans\"]=dataset[\"inst_plans\"].astype(\"category\")\n",
        "dataset[\"housing\"]=dataset[\"housing\"].astype(\"category\")\n",
        "dataset[\"job\"]=dataset[\"job\"].astype(\"category\")\n",
        "dataset[\"telephone\"]=dataset[\"telephone\"].astype(\"category\")\n",
        "dataset[\"foreign_worker\"]=dataset[\"foreign_worker\"].astype(\"category\")\n",
        "dataset[\"status\"]=dataset[\"status\"].astype(\"category\")\n",
        "dataset[\"inst_rate\"]=dataset[\"inst_rate\"].astype(\"category\")\n",
        "dataset[\"residing_since\"]=dataset[\"residing_since\"].astype(\"category\")\n",
        "dataset[\"num_credits\"]=dataset[\"num_credits\"].astype(\"category\")\n",
        "dataset[\"dependents\"]=dataset[\"dependents\"].astype(\"category\")"
      ],
      "id": "fa4f1ac1",
      "execution_count": null,
      "outputs": []
    },
    {
      "cell_type": "code",
      "metadata": {
        "colab": {
          "base_uri": "https://localhost:8080/",
          "height": 297
        },
        "id": "2a57379d",
        "outputId": "f49c32af-6d2d-49b7-bb3e-15dd30456d5f"
      },
      "source": [
        "dataset.describe()"
      ],
      "id": "2a57379d",
      "execution_count": null,
      "outputs": [
        {
          "output_type": "execute_result",
          "data": {
            "text/html": [
              "<div>\n",
              "<style scoped>\n",
              "    .dataframe tbody tr th:only-of-type {\n",
              "        vertical-align: middle;\n",
              "    }\n",
              "\n",
              "    .dataframe tbody tr th {\n",
              "        vertical-align: top;\n",
              "    }\n",
              "\n",
              "    .dataframe thead th {\n",
              "        text-align: right;\n",
              "    }\n",
              "</style>\n",
              "<table border=\"1\" class=\"dataframe\">\n",
              "  <thead>\n",
              "    <tr style=\"text-align: right;\">\n",
              "      <th></th>\n",
              "      <th>duration</th>\n",
              "      <th>amount</th>\n",
              "      <th>age</th>\n",
              "    </tr>\n",
              "  </thead>\n",
              "  <tbody>\n",
              "    <tr>\n",
              "      <th>count</th>\n",
              "      <td>1000.000000</td>\n",
              "      <td>1000.000000</td>\n",
              "      <td>1000.000000</td>\n",
              "    </tr>\n",
              "    <tr>\n",
              "      <th>mean</th>\n",
              "      <td>31.449000</td>\n",
              "      <td>4907.134000</td>\n",
              "      <td>53.566000</td>\n",
              "    </tr>\n",
              "    <tr>\n",
              "      <th>std</th>\n",
              "      <td>18.055564</td>\n",
              "      <td>4234.100176</td>\n",
              "      <td>17.065664</td>\n",
              "    </tr>\n",
              "    <tr>\n",
              "      <th>min</th>\n",
              "      <td>6.000000</td>\n",
              "      <td>375.000000</td>\n",
              "      <td>29.000000</td>\n",
              "    </tr>\n",
              "    <tr>\n",
              "      <th>25%</th>\n",
              "      <td>18.000000</td>\n",
              "      <td>2048.250000</td>\n",
              "      <td>41.000000</td>\n",
              "    </tr>\n",
              "    <tr>\n",
              "      <th>50%</th>\n",
              "      <td>27.000000</td>\n",
              "      <td>3479.500000</td>\n",
              "      <td>50.000000</td>\n",
              "    </tr>\n",
              "    <tr>\n",
              "      <th>75%</th>\n",
              "      <td>36.000000</td>\n",
              "      <td>5958.500000</td>\n",
              "      <td>63.000000</td>\n",
              "    </tr>\n",
              "    <tr>\n",
              "      <th>max</th>\n",
              "      <td>108.000000</td>\n",
              "      <td>27636.000000</td>\n",
              "      <td>113.000000</td>\n",
              "    </tr>\n",
              "  </tbody>\n",
              "</table>\n",
              "</div>"
            ],
            "text/plain": [
              "          duration        amount          age\n",
              "count  1000.000000   1000.000000  1000.000000\n",
              "mean     31.449000   4907.134000    53.566000\n",
              "std      18.055564   4234.100176    17.065664\n",
              "min       6.000000    375.000000    29.000000\n",
              "25%      18.000000   2048.250000    41.000000\n",
              "50%      27.000000   3479.500000    50.000000\n",
              "75%      36.000000   5958.500000    63.000000\n",
              "max     108.000000  27636.000000   113.000000"
            ]
          },
          "metadata": {
            "tags": []
          },
          "execution_count": 14
        }
      ]
    },
    {
      "cell_type": "markdown",
      "metadata": {
        "id": "34fb9717"
      },
      "source": [
        "## Presence of possible odd values in the dataset: -"
      ],
      "id": "34fb9717"
    },
    {
      "cell_type": "code",
      "metadata": {
        "colab": {
          "base_uri": "https://localhost:8080/",
          "height": 472
        },
        "id": "4366472b",
        "outputId": "11387b10-4ffd-44ba-83a2-a8d8b16f67e1"
      },
      "source": [
        "df=dataset[dataset['age']>100]\n",
        "df"
      ],
      "id": "4366472b",
      "execution_count": null,
      "outputs": [
        {
          "output_type": "execute_result",
          "data": {
            "text/html": [
              "<div>\n",
              "<style scoped>\n",
              "    .dataframe tbody tr th:only-of-type {\n",
              "        vertical-align: middle;\n",
              "    }\n",
              "\n",
              "    .dataframe tbody tr th {\n",
              "        vertical-align: top;\n",
              "    }\n",
              "\n",
              "    .dataframe thead th {\n",
              "        text-align: right;\n",
              "    }\n",
              "</style>\n",
              "<table border=\"1\" class=\"dataframe\">\n",
              "  <thead>\n",
              "    <tr style=\"text-align: right;\">\n",
              "      <th></th>\n",
              "      <th>checkin_acc</th>\n",
              "      <th>duration</th>\n",
              "      <th>credit_history</th>\n",
              "      <th>purpose</th>\n",
              "      <th>amount</th>\n",
              "      <th>svaing_acc</th>\n",
              "      <th>present_emp_since</th>\n",
              "      <th>inst_rate</th>\n",
              "      <th>personal_status</th>\n",
              "      <th>other_debtors</th>\n",
              "      <th>residing_since</th>\n",
              "      <th>property</th>\n",
              "      <th>age</th>\n",
              "      <th>inst_plans</th>\n",
              "      <th>housing</th>\n",
              "      <th>num_credits</th>\n",
              "      <th>job</th>\n",
              "      <th>dependents</th>\n",
              "      <th>telephone</th>\n",
              "      <th>foreign_worker</th>\n",
              "      <th>status</th>\n",
              "    </tr>\n",
              "  </thead>\n",
              "  <tbody>\n",
              "    <tr>\n",
              "      <th>0</th>\n",
              "      <td>A11</td>\n",
              "      <td>9</td>\n",
              "      <td>A34</td>\n",
              "      <td>A43</td>\n",
              "      <td>1754</td>\n",
              "      <td>A65</td>\n",
              "      <td>A75</td>\n",
              "      <td>6</td>\n",
              "      <td>A93</td>\n",
              "      <td>A101</td>\n",
              "      <td>6</td>\n",
              "      <td>A121</td>\n",
              "      <td>101</td>\n",
              "      <td>A143</td>\n",
              "      <td>A152</td>\n",
              "      <td>3</td>\n",
              "      <td>A173</td>\n",
              "      <td>2</td>\n",
              "      <td>A192</td>\n",
              "      <td>A201</td>\n",
              "      <td>1</td>\n",
              "    </tr>\n",
              "    <tr>\n",
              "      <th>163</th>\n",
              "      <td>A12</td>\n",
              "      <td>15</td>\n",
              "      <td>A32</td>\n",
              "      <td>A40</td>\n",
              "      <td>10962</td>\n",
              "      <td>A61</td>\n",
              "      <td>A71</td>\n",
              "      <td>3</td>\n",
              "      <td>A93</td>\n",
              "      <td>A101</td>\n",
              "      <td>6</td>\n",
              "      <td>A124</td>\n",
              "      <td>105</td>\n",
              "      <td>A141</td>\n",
              "      <td>A153</td>\n",
              "      <td>2</td>\n",
              "      <td>A174</td>\n",
              "      <td>2</td>\n",
              "      <td>A192</td>\n",
              "      <td>A201</td>\n",
              "      <td>1</td>\n",
              "    </tr>\n",
              "    <tr>\n",
              "      <th>186</th>\n",
              "      <td>A12</td>\n",
              "      <td>14</td>\n",
              "      <td>A31</td>\n",
              "      <td>A41</td>\n",
              "      <td>7694</td>\n",
              "      <td>A61</td>\n",
              "      <td>A75</td>\n",
              "      <td>3</td>\n",
              "      <td>A92</td>\n",
              "      <td>A101</td>\n",
              "      <td>6</td>\n",
              "      <td>A124</td>\n",
              "      <td>111</td>\n",
              "      <td>A141</td>\n",
              "      <td>A153</td>\n",
              "      <td>2</td>\n",
              "      <td>A174</td>\n",
              "      <td>3</td>\n",
              "      <td>A192</td>\n",
              "      <td>A201</td>\n",
              "      <td>2</td>\n",
              "    </tr>\n",
              "    <tr>\n",
              "      <th>187</th>\n",
              "      <td>A12</td>\n",
              "      <td>24</td>\n",
              "      <td>A34</td>\n",
              "      <td>A40</td>\n",
              "      <td>1763</td>\n",
              "      <td>A61</td>\n",
              "      <td>A71</td>\n",
              "      <td>3</td>\n",
              "      <td>A93</td>\n",
              "      <td>A101</td>\n",
              "      <td>5</td>\n",
              "      <td>A123</td>\n",
              "      <td>102</td>\n",
              "      <td>A143</td>\n",
              "      <td>A153</td>\n",
              "      <td>5</td>\n",
              "      <td>A171</td>\n",
              "      <td>2</td>\n",
              "      <td>A192</td>\n",
              "      <td>A201</td>\n",
              "      <td>1</td>\n",
              "    </tr>\n",
              "    <tr>\n",
              "      <th>330</th>\n",
              "      <td>A11</td>\n",
              "      <td>36</td>\n",
              "      <td>A34</td>\n",
              "      <td>A41</td>\n",
              "      <td>9923</td>\n",
              "      <td>A61</td>\n",
              "      <td>A71</td>\n",
              "      <td>3</td>\n",
              "      <td>A93</td>\n",
              "      <td>A101</td>\n",
              "      <td>6</td>\n",
              "      <td>A124</td>\n",
              "      <td>113</td>\n",
              "      <td>A143</td>\n",
              "      <td>A153</td>\n",
              "      <td>3</td>\n",
              "      <td>A174</td>\n",
              "      <td>2</td>\n",
              "      <td>A192</td>\n",
              "      <td>A201</td>\n",
              "      <td>1</td>\n",
              "    </tr>\n",
              "    <tr>\n",
              "      <th>430</th>\n",
              "      <td>A14</td>\n",
              "      <td>8</td>\n",
              "      <td>A32</td>\n",
              "      <td>A49</td>\n",
              "      <td>5172</td>\n",
              "      <td>A61</td>\n",
              "      <td>A74</td>\n",
              "      <td>2</td>\n",
              "      <td>A93</td>\n",
              "      <td>A101</td>\n",
              "      <td>6</td>\n",
              "      <td>A121</td>\n",
              "      <td>111</td>\n",
              "      <td>A143</td>\n",
              "      <td>A152</td>\n",
              "      <td>2</td>\n",
              "      <td>A172</td>\n",
              "      <td>2</td>\n",
              "      <td>A191</td>\n",
              "      <td>A201</td>\n",
              "      <td>1</td>\n",
              "    </tr>\n",
              "    <tr>\n",
              "      <th>536</th>\n",
              "      <td>A11</td>\n",
              "      <td>9</td>\n",
              "      <td>A32</td>\n",
              "      <td>A40</td>\n",
              "      <td>2061</td>\n",
              "      <td>A65</td>\n",
              "      <td>A71</td>\n",
              "      <td>6</td>\n",
              "      <td>A92</td>\n",
              "      <td>A101</td>\n",
              "      <td>5</td>\n",
              "      <td>A122</td>\n",
              "      <td>113</td>\n",
              "      <td>A143</td>\n",
              "      <td>A152</td>\n",
              "      <td>2</td>\n",
              "      <td>A174</td>\n",
              "      <td>2</td>\n",
              "      <td>A192</td>\n",
              "      <td>A201</td>\n",
              "      <td>1</td>\n",
              "    </tr>\n",
              "    <tr>\n",
              "      <th>554</th>\n",
              "      <td>A12</td>\n",
              "      <td>14</td>\n",
              "      <td>A32</td>\n",
              "      <td>A46</td>\n",
              "      <td>1799</td>\n",
              "      <td>A61</td>\n",
              "      <td>A74</td>\n",
              "      <td>6</td>\n",
              "      <td>A92</td>\n",
              "      <td>A101</td>\n",
              "      <td>6</td>\n",
              "      <td>A122</td>\n",
              "      <td>101</td>\n",
              "      <td>A143</td>\n",
              "      <td>A152</td>\n",
              "      <td>3</td>\n",
              "      <td>A174</td>\n",
              "      <td>2</td>\n",
              "      <td>A192</td>\n",
              "      <td>A201</td>\n",
              "      <td>1</td>\n",
              "    </tr>\n",
              "    <tr>\n",
              "      <th>606</th>\n",
              "      <td>A14</td>\n",
              "      <td>36</td>\n",
              "      <td>A34</td>\n",
              "      <td>A49</td>\n",
              "      <td>6789</td>\n",
              "      <td>A61</td>\n",
              "      <td>A73</td>\n",
              "      <td>5</td>\n",
              "      <td>A93</td>\n",
              "      <td>A101</td>\n",
              "      <td>3</td>\n",
              "      <td>A121</td>\n",
              "      <td>111</td>\n",
              "      <td>A143</td>\n",
              "      <td>A152</td>\n",
              "      <td>2</td>\n",
              "      <td>A174</td>\n",
              "      <td>2</td>\n",
              "      <td>A192</td>\n",
              "      <td>A201</td>\n",
              "      <td>1</td>\n",
              "    </tr>\n",
              "    <tr>\n",
              "      <th>756</th>\n",
              "      <td>A13</td>\n",
              "      <td>9</td>\n",
              "      <td>A34</td>\n",
              "      <td>A40</td>\n",
              "      <td>1949</td>\n",
              "      <td>A61</td>\n",
              "      <td>A73</td>\n",
              "      <td>2</td>\n",
              "      <td>A93</td>\n",
              "      <td>A101</td>\n",
              "      <td>2</td>\n",
              "      <td>A121</td>\n",
              "      <td>111</td>\n",
              "      <td>A143</td>\n",
              "      <td>A152</td>\n",
              "      <td>5</td>\n",
              "      <td>A171</td>\n",
              "      <td>3</td>\n",
              "      <td>A191</td>\n",
              "      <td>A202</td>\n",
              "      <td>1</td>\n",
              "    </tr>\n",
              "    <tr>\n",
              "      <th>779</th>\n",
              "      <td>A12</td>\n",
              "      <td>27</td>\n",
              "      <td>A32</td>\n",
              "      <td>A45</td>\n",
              "      <td>5808</td>\n",
              "      <td>A61</td>\n",
              "      <td>A71</td>\n",
              "      <td>3</td>\n",
              "      <td>A92</td>\n",
              "      <td>A101</td>\n",
              "      <td>6</td>\n",
              "      <td>A123</td>\n",
              "      <td>101</td>\n",
              "      <td>A143</td>\n",
              "      <td>A152</td>\n",
              "      <td>2</td>\n",
              "      <td>A173</td>\n",
              "      <td>2</td>\n",
              "      <td>A192</td>\n",
              "      <td>A201</td>\n",
              "      <td>1</td>\n",
              "    </tr>\n",
              "    <tr>\n",
              "      <th>846</th>\n",
              "      <td>A14</td>\n",
              "      <td>27</td>\n",
              "      <td>A32</td>\n",
              "      <td>A40</td>\n",
              "      <td>10142</td>\n",
              "      <td>A65</td>\n",
              "      <td>A73</td>\n",
              "      <td>3</td>\n",
              "      <td>A93</td>\n",
              "      <td>A101</td>\n",
              "      <td>6</td>\n",
              "      <td>A123</td>\n",
              "      <td>102</td>\n",
              "      <td>A143</td>\n",
              "      <td>A151</td>\n",
              "      <td>3</td>\n",
              "      <td>A173</td>\n",
              "      <td>2</td>\n",
              "      <td>A191</td>\n",
              "      <td>A201</td>\n",
              "      <td>2</td>\n",
              "    </tr>\n",
              "    <tr>\n",
              "      <th>917</th>\n",
              "      <td>A11</td>\n",
              "      <td>9</td>\n",
              "      <td>A32</td>\n",
              "      <td>A40</td>\n",
              "      <td>22344</td>\n",
              "      <td>A61</td>\n",
              "      <td>A75</td>\n",
              "      <td>2</td>\n",
              "      <td>A93</td>\n",
              "      <td>A101</td>\n",
              "      <td>6</td>\n",
              "      <td>A124</td>\n",
              "      <td>102</td>\n",
              "      <td>A141</td>\n",
              "      <td>A152</td>\n",
              "      <td>2</td>\n",
              "      <td>A174</td>\n",
              "      <td>2</td>\n",
              "      <td>A192</td>\n",
              "      <td>A201</td>\n",
              "      <td>2</td>\n",
              "    </tr>\n",
              "  </tbody>\n",
              "</table>\n",
              "</div>"
            ],
            "text/plain": [
              "    checkin_acc  duration credit_history  ... telephone  foreign_worker status\n",
              "0           A11         9            A34  ...      A192            A201      1\n",
              "163         A12        15            A32  ...      A192            A201      1\n",
              "186         A12        14            A31  ...      A192            A201      2\n",
              "187         A12        24            A34  ...      A192            A201      1\n",
              "330         A11        36            A34  ...      A192            A201      1\n",
              "430         A14         8            A32  ...      A191            A201      1\n",
              "536         A11         9            A32  ...      A192            A201      1\n",
              "554         A12        14            A32  ...      A192            A201      1\n",
              "606         A14        36            A34  ...      A192            A201      1\n",
              "756         A13         9            A34  ...      A191            A202      1\n",
              "779         A12        27            A32  ...      A192            A201      1\n",
              "846         A14        27            A32  ...      A191            A201      2\n",
              "917         A11         9            A32  ...      A192            A201      2\n",
              "\n",
              "[13 rows x 21 columns]"
            ]
          },
          "metadata": {
            "tags": []
          },
          "execution_count": 15
        }
      ]
    },
    {
      "cell_type": "markdown",
      "metadata": {
        "id": "9325950d"
      },
      "source": [
        "### The age of these 13 customers are above 100 years which is quite inadmissible. So, these are kept aside before further analysis."
      ],
      "id": "9325950d"
    },
    {
      "cell_type": "code",
      "metadata": {
        "colab": {
          "base_uri": "https://localhost:8080/"
        },
        "id": "c3393846",
        "outputId": "60029380-0dc5-4138-d520-7e7a4098914e"
      },
      "source": [
        "df=dataset[dataset['age']<100]\n",
        "print(df.shape)\n",
        "print(type(df))"
      ],
      "id": "c3393846",
      "execution_count": null,
      "outputs": [
        {
          "output_type": "stream",
          "text": [
            "(987, 21)\n",
            "<class 'pandas.core.frame.DataFrame'>\n"
          ],
          "name": "stdout"
        }
      ]
    },
    {
      "cell_type": "markdown",
      "metadata": {
        "id": "aa110d85"
      },
      "source": [
        "# Exploratory Data Analysis: -"
      ],
      "id": "aa110d85"
    },
    {
      "cell_type": "markdown",
      "metadata": {
        "id": "n_F38ctjqDIQ"
      },
      "source": [
        "## For categorical variables:"
      ],
      "id": "n_F38ctjqDIQ"
    },
    {
      "cell_type": "code",
      "metadata": {
        "colab": {
          "base_uri": "https://localhost:8080/",
          "height": 351
        },
        "id": "e79b98fd",
        "outputId": "778287c4-3fde-4eac-ed75-04ceb7d3114a"
      },
      "source": [
        "sns.set_style(\"whitegrid\")\n",
        "plt.figure(figsize=(15,5))\n",
        "plt.subplot(1,4,1)\n",
        "plt.title('Status of existing checking account')\n",
        "sns.countplot(x='checkin_acc', data=df, hue='status')\n",
        "plt.subplot(1,4,2)\n",
        "plt.title('Credit History')\n",
        "sns.countplot(x='credit_history', data=df, hue='status')\n",
        "plt.subplot(1,4,3)\n",
        "plt.title('Purpose')\n",
        "sns.countplot(x='purpose', data=df, hue='status')\n",
        "plt.subplot(1,4,4)\n",
        "plt.title('Installment rates')\n",
        "sns.countplot(x='inst_rate', data=df, hue='status')\n",
        "plt.show()"
      ],
      "id": "e79b98fd",
      "execution_count": null,
      "outputs": [
        {
          "output_type": "display_data",
          "data": {
            "image/png": "[encoded data removed]",
            "text/plain": [
              "<Figure size 1080x360 with 4 Axes>"
            ]
          },
          "metadata": {
            "tags": []
          }
        }
      ]
    },
    {
      "cell_type": "code",
      "metadata": {
        "colab": {
          "base_uri": "https://localhost:8080/",
          "height": 351
        },
        "id": "91ae58cb",
        "outputId": "61fa40af-14f9-4abd-faf9-c19d4b4f9003"
      },
      "source": [
        "sns.set_style(\"whitegrid\")\n",
        "plt.figure(figsize=(15,5))\n",
        "plt.subplot(1,4,1)\n",
        "plt.title('Savings account/bonds')\n",
        "sns.countplot(x='svaing_acc', data=df, hue='status')\n",
        "plt.subplot(1,4,2)\n",
        "plt.title('Present employment since')\n",
        "sns.countplot(x='present_emp_since', data=df, hue='status')\n",
        "plt.subplot(1,4,3)\n",
        "plt.title('Personal status and sex')\n",
        "sns.countplot(x='personal_status', data=df, hue='status')\n",
        "plt.subplot(1,4,4)\n",
        "plt.title('Present residence since')\n",
        "sns.countplot(x='residing_since', data=df, hue='status')\n",
        "plt.show()"
      ],
      "id": "91ae58cb",
      "execution_count": null,
      "outputs": [
        {
          "output_type": "display_data",
          "data": {
            "image/png": "[encoded data removed]",
            "text/plain": [
              "<Figure size 1080x360 with 4 Axes>"
            ]
          },
          "metadata": {
            "tags": []
          }
        }
      ]
    },
    {
      "cell_type": "code",
      "metadata": {
        "colab": {
          "base_uri": "https://localhost:8080/",
          "height": 351
        },
        "id": "f960a0ac",
        "outputId": "22976aa9-a9ef-4078-b761-ad188c648633"
      },
      "source": [
        "sns.set_style(\"whitegrid\")\n",
        "plt.figure(figsize=(15,5))\n",
        "plt.subplot(1,4,1)\n",
        "plt.title('Other debtors/guarantors')\n",
        "sns.countplot(x='other_debtors', data=df, hue='status')\n",
        "plt.subplot(1,4,2)\n",
        "plt.title('Property')\n",
        "sns.countplot(x='property', data=df, hue='status')\n",
        "plt.subplot(1,4,3)\n",
        "plt.title('Other installment plans')\n",
        "sns.countplot(x='inst_plans', data=df, hue='status')\n",
        "plt.subplot(1,4,4)\n",
        "plt.title('No. of existing credits')\n",
        "sns.countplot(x='num_credits', data=df, hue='status')\n",
        "plt.show()"
      ],
      "id": "f960a0ac",
      "execution_count": null,
      "outputs": [
        {
          "output_type": "display_data",
          "data": {
            "image/png": "[encoded data removed]",
            "text/plain": [
              "<Figure size 1080x360 with 4 Axes>"
            ]
          },
          "metadata": {
            "tags": []
          }
        }
      ]
    },
    {
      "cell_type": "code",
      "metadata": {
        "colab": {
          "base_uri": "https://localhost:8080/",
          "height": 351
        },
        "id": "cfd55e49",
        "outputId": "db1042cd-c1f2-4621-bfc6-a0e7a9b49f1c"
      },
      "source": [
        "sns.set_style(\"whitegrid\")\n",
        "plt.figure(figsize=(20,5))\n",
        "plt.subplot(1,5,1)\n",
        "plt.title('Housing')\n",
        "sns.countplot(x='housing', data=df, hue='status')\n",
        "plt.subplot(1,5,2)\n",
        "plt.title('Job')\n",
        "sns.countplot(x='job', data=df, hue='status')\n",
        "plt.subplot(1,5,3)\n",
        "plt.title('Telephone')\n",
        "sns.countplot(x='telephone', data=df, hue='status')\n",
        "plt.subplot(1,5,4)\n",
        "plt.title('Foreign worker')\n",
        "sns.countplot(x='foreign_worker', data=df, hue='status')\n",
        "plt.subplot(1,5,5)\n",
        "plt.title('No of people liable to provide maintenance')\n",
        "sns.countplot(x='dependents', data=df, hue='status')\n",
        "plt.show()"
      ],
      "id": "cfd55e49",
      "execution_count": null,
      "outputs": [
        {
          "output_type": "display_data",
          "data": {
            "image/png": "[encoded data removed]",
            "text/plain": [
              "<Figure size 1440x360 with 5 Axes>"
            ]
          },
          "metadata": {
            "tags": []
          }
        }
      ]
    },
    {
      "cell_type": "markdown",
      "metadata": {
        "id": "f23dbaa4"
      },
      "source": [
        "### Chi sq. tests to check independence between 'Credit risk Status' and the corresponding factor of interest: -\n",
        "* H0: The attributes 'Credit risk Status' and the corresponding cateogrical var. are independent\n",
        "* H1: They are not independent"
      ],
      "id": "f23dbaa4"
    },
    {
      "cell_type": "code",
      "metadata": {
        "id": "95f3096e"
      },
      "source": [
        "import statsmodels.api as sm\n",
        "from statsmodels.formula.api import ols\n",
        "from scipy.stats import chi2_contingency"
      ],
      "id": "95f3096e",
      "execution_count": null,
      "outputs": []
    },
    {
      "cell_type": "code",
      "metadata": {
        "colab": {
          "base_uri": "https://localhost:8080/",
          "height": 576
        },
        "id": "f96bd963",
        "outputId": "07dadf8b-f019-42ec-ad88-e4f208f7ee8b"
      },
      "source": [
        "df1=pd.crosstab(df['checkin_acc'], df['status'])\n",
        "c1, p1, dof1, expected1 = chi2_contingency(df1)\n",
        "df2=pd.crosstab(df['credit_history'], df['status'])\n",
        "c2, p2, dof2, expected2 = chi2_contingency(df2)\n",
        "df3=pd.crosstab(df['purpose'], df['status'])\n",
        "c3, p3, dof3, expected3 = chi2_contingency(df3)\n",
        "df4=pd.crosstab(df['svaing_acc'], df['status'])\n",
        "c4, p4, dof4, expected4 = chi2_contingency(df4)\n",
        "df5=pd.crosstab(df['present_emp_since'], df['status'])\n",
        "c5, p5, dof5, expected5 = chi2_contingency(df5)\n",
        "df6=pd.crosstab(df['personal_status'], df['status'])\n",
        "c6, p6, dof6, expected6 = chi2_contingency(df6)\n",
        "df7=pd.crosstab(df['other_debtors'], df['status'])\n",
        "c7, p7, dof7, expected7 = chi2_contingency(df7)\n",
        "df8=pd.crosstab(df['property'], df['status'])\n",
        "c8, p8, dof8, expected8 = chi2_contingency(df8)\n",
        "df9=pd.crosstab(df['inst_plans'], df['status'])\n",
        "c9, p9, dof9, expected9 = chi2_contingency(df9)\n",
        "df10=pd.crosstab(df['housing'], df['status'])\n",
        "c10, p10, dof10, expected10 = chi2_contingency(df10)\n",
        "df11=pd.crosstab(df['job'], df['status'])\n",
        "c11, p11, dof11, expected11 = chi2_contingency(df11)\n",
        "df12=pd.crosstab(df['telephone'], df['status'])\n",
        "c12, p12, dof12, expected12 = chi2_contingency(df12)\n",
        "df13=pd.crosstab(df['foreign_worker'], df['status'])\n",
        "c13, p13, dof13, expected13 = chi2_contingency(df13)\n",
        "df14=pd.crosstab(df['inst_rate'], df['status'])\n",
        "c14, p14, dof14, expected14 = chi2_contingency(df14)\n",
        "df15=pd.crosstab(df['residing_since'], df['status'])\n",
        "c15, p15, dof15, expected15 = chi2_contingency(df15)\n",
        "df16=pd.crosstab(df['num_credits'], df['status'])\n",
        "c16, p16, dof16, expected16 = chi2_contingency(df16)\n",
        "df17=pd.crosstab(df['dependents'], df['status'])\n",
        "c17, p17, dof17, expected17 = chi2_contingency(df17)\n",
        "ind_values=['checkin_acc','credit_history','purpose','svaing_acc','present_emp_since','personal_status','other_debtors','property','inst_plans','housing','job','telephone','foreign_worker','inst_rate','residing_since','num_credits','dependents']\n",
        "col_values=['Calculated values of Test statistic','p values','d.f.']\n",
        "array=np.array([[c1, p1, dof1],[c2, p2, dof2],[c3, p3, dof3],[c4, p4, dof4],[c5, p5, dof5],[c6, p6, dof6],[c7, p7, dof7],[c8, p8, dof8],[c9, p9, dof9],[c10, p10, dof10],[c11, p11, dof11],[c12, p12, dof12],[c13, p13, dof13],[c14, p14, dof14],[c15, p15, dof15],[c16, p16, dof16],[c17, p17, dof17]])\n",
        "test_results=pd.DataFrame(data=array,index=ind_values,columns=col_values)\n",
        "test_results"
      ],
      "id": "f96bd963",
      "execution_count": null,
      "outputs": [
        {
          "output_type": "execute_result",
          "data": {
            "text/html": [
              "<div>\n",
              "<style scoped>\n",
              "    .dataframe tbody tr th:only-of-type {\n",
              "        vertical-align: middle;\n",
              "    }\n",
              "\n",
              "    .dataframe tbody tr th {\n",
              "        vertical-align: top;\n",
              "    }\n",
              "\n",
              "    .dataframe thead th {\n",
              "        text-align: right;\n",
              "    }\n",
              "</style>\n",
              "<table border=\"1\" class=\"dataframe\">\n",
              "  <thead>\n",
              "    <tr style=\"text-align: right;\">\n",
              "      <th></th>\n",
              "      <th>Calculated values of Test statistic</th>\n",
              "      <th>p values</th>\n",
              "      <th>d.f.</th>\n",
              "    </tr>\n",
              "  </thead>\n",
              "  <tbody>\n",
              "    <tr>\n",
              "      <th>checkin_acc</th>\n",
              "      <td>125.700737</td>\n",
              "      <td>4.565155e-27</td>\n",
              "      <td>3.0</td>\n",
              "    </tr>\n",
              "    <tr>\n",
              "      <th>credit_history</th>\n",
              "      <td>58.738087</td>\n",
              "      <td>5.340939e-12</td>\n",
              "      <td>4.0</td>\n",
              "    </tr>\n",
              "    <tr>\n",
              "      <th>purpose</th>\n",
              "      <td>34.920359</td>\n",
              "      <td>6.154162e-05</td>\n",
              "      <td>9.0</td>\n",
              "    </tr>\n",
              "    <tr>\n",
              "      <th>svaing_acc</th>\n",
              "      <td>37.140878</td>\n",
              "      <td>1.684851e-07</td>\n",
              "      <td>4.0</td>\n",
              "    </tr>\n",
              "    <tr>\n",
              "      <th>present_emp_since</th>\n",
              "      <td>19.925857</td>\n",
              "      <td>5.165135e-04</td>\n",
              "      <td>4.0</td>\n",
              "    </tr>\n",
              "    <tr>\n",
              "      <th>personal_status</th>\n",
              "      <td>9.562228</td>\n",
              "      <td>2.267849e-02</td>\n",
              "      <td>3.0</td>\n",
              "    </tr>\n",
              "    <tr>\n",
              "      <th>other_debtors</th>\n",
              "      <td>6.633320</td>\n",
              "      <td>3.627378e-02</td>\n",
              "      <td>2.0</td>\n",
              "    </tr>\n",
              "    <tr>\n",
              "      <th>property</th>\n",
              "      <td>22.194665</td>\n",
              "      <td>5.942148e-05</td>\n",
              "      <td>3.0</td>\n",
              "    </tr>\n",
              "    <tr>\n",
              "      <th>inst_plans</th>\n",
              "      <td>11.430989</td>\n",
              "      <td>3.294521e-03</td>\n",
              "      <td>2.0</td>\n",
              "    </tr>\n",
              "    <tr>\n",
              "      <th>housing</th>\n",
              "      <td>17.594823</td>\n",
              "      <td>1.511237e-04</td>\n",
              "      <td>2.0</td>\n",
              "    </tr>\n",
              "    <tr>\n",
              "      <th>job</th>\n",
              "      <td>2.147084</td>\n",
              "      <td>5.424462e-01</td>\n",
              "      <td>3.0</td>\n",
              "    </tr>\n",
              "    <tr>\n",
              "      <th>telephone</th>\n",
              "      <td>1.000725</td>\n",
              "      <td>3.171352e-01</td>\n",
              "      <td>1.0</td>\n",
              "    </tr>\n",
              "    <tr>\n",
              "      <th>foreign_worker</th>\n",
              "      <td>5.496144</td>\n",
              "      <td>1.905845e-02</td>\n",
              "      <td>1.0</td>\n",
              "    </tr>\n",
              "    <tr>\n",
              "      <th>inst_rate</th>\n",
              "      <td>5.923647</td>\n",
              "      <td>1.153847e-01</td>\n",
              "      <td>3.0</td>\n",
              "    </tr>\n",
              "    <tr>\n",
              "      <th>residing_since</th>\n",
              "      <td>0.676113</td>\n",
              "      <td>8.788076e-01</td>\n",
              "      <td>3.0</td>\n",
              "    </tr>\n",
              "    <tr>\n",
              "      <th>num_credits</th>\n",
              "      <td>2.266892</td>\n",
              "      <td>5.188932e-01</td>\n",
              "      <td>3.0</td>\n",
              "    </tr>\n",
              "    <tr>\n",
              "      <th>dependents</th>\n",
              "      <td>0.010703</td>\n",
              "      <td>9.176028e-01</td>\n",
              "      <td>1.0</td>\n",
              "    </tr>\n",
              "  </tbody>\n",
              "</table>\n",
              "</div>"
            ],
            "text/plain": [
              "                   Calculated values of Test statistic      p values  d.f.\n",
              "checkin_acc                                 125.700737  4.565155e-27   3.0\n",
              "credit_history                               58.738087  5.340939e-12   4.0\n",
              "purpose                                      34.920359  6.154162e-05   9.0\n",
              "svaing_acc                                   37.140878  1.684851e-07   4.0\n",
              "present_emp_since                            19.925857  5.165135e-04   4.0\n",
              "personal_status                               9.562228  2.267849e-02   3.0\n",
              "other_debtors                                 6.633320  3.627378e-02   2.0\n",
              "property                                     22.194665  5.942148e-05   3.0\n",
              "inst_plans                                   11.430989  3.294521e-03   2.0\n",
              "housing                                      17.594823  1.511237e-04   2.0\n",
              "job                                           2.147084  5.424462e-01   3.0\n",
              "telephone                                     1.000725  3.171352e-01   1.0\n",
              "foreign_worker                                5.496144  1.905845e-02   1.0\n",
              "inst_rate                                     5.923647  1.153847e-01   3.0\n",
              "residing_since                                0.676113  8.788076e-01   3.0\n",
              "num_credits                                   2.266892  5.188932e-01   3.0\n",
              "dependents                                    0.010703  9.176028e-01   1.0"
            ]
          },
          "metadata": {
            "tags": []
          },
          "execution_count": 22
        }
      ]
    },
    {
      "cell_type": "markdown",
      "metadata": {
        "id": "042759cc"
      },
      "source": [
        "## Decisions: -\n",
        "* For the chi-sq tests of independence of 'Credit Risk Status' with 'Job', 'Telephone', 'Installment rates', 'Present residence since', 'No. of credits' and 'No. of people liable to provide maintenance for' - the p-value is coming out to be greater than the level of significance 0.05.\n",
        "\n",
        "* For the chi-sq tests of independence between 'Credit Risk Status' and other factors, the p-value is less than the level of significance 0.05.\n",
        "\n",
        "* Thus we conclude that 'Credit Risk Status' is independent of 'Job', 'Telephone', 'Installment rates', 'Present residence since', 'No. of credits' and 'No. of people liable to provide maintenance for' but it is dependent on the other 11 factors."
      ],
      "id": "042759cc"
    },
    {
      "cell_type": "markdown",
      "metadata": {
        "id": "5a246928"
      },
      "source": [
        "## Overall characteristics of risky customers and suitable actions that can be taken based on the categorical variables: \n",
        "* They hold 'A11' and 'A12' category of existing checking accounts more than the other types of accounts.\n",
        "* Their chance of having 'A32' category of Credit history is more likely.\n",
        "* It is seen that they have more tendencies of having 'A40','A42' and 'A43' categories of purposes of operating accounts. These operations need to be checked.\n",
        "* They mostly have 'A61' category of Savings account/bonds in the bank. So, strict restrictions are to be imposed for customers having this category of savings account.\n",
        "* The persons having Present Employment since 'A73' type and Personal Status and sex of 'A93' type can be suspected to be defaulters.\n",
        "* The customers with 'A101' category of Other debtors/guarantors have highly come out to be defaulters and therefore they are to be scrutinised in details.\n",
        "* The cutomers possessing 'A123' category of property and 'A143' type of other installment plans are to be taken care of.\n",
        "* There may be something suspicious about customers having housing of category 'A152' and Foreign workers of 'A201' category and that needs to be analysed in details, sinc they have more tendencies to default."
      ],
      "id": "5a246928"
    },
    {
      "cell_type": "markdown",
      "metadata": {
        "id": "urTx7shflH1W"
      },
      "source": [
        "## For continuous variables: -"
      ],
      "id": "urTx7shflH1W"
    },
    {
      "cell_type": "markdown",
      "metadata": {
        "id": "gVRoqpXjl2uO"
      },
      "source": [
        "**Duration: -**"
      ],
      "id": "gVRoqpXjl2uO"
    },
    {
      "cell_type": "code",
      "metadata": {
        "colab": {
          "base_uri": "https://localhost:8080/",
          "height": 350
        },
        "id": "64e78c8f",
        "outputId": "57f32662-f492-4cf0-c81f-c9a2b9b842f4"
      },
      "source": [
        "sns.set_style(\"whitegrid\")\n",
        "plt.figure(figsize=(15,5))\n",
        "plt.subplot(1,3,1)\n",
        "plt.title('Density plot & Histogram of Duration')\n",
        "sns.distplot(df['duration'],rug=True)\n",
        "plt.subplot(1,3,2)\n",
        "plt.title('Comparison through Boxplot of Duration')\n",
        "sns.boxplot(x='status',y='duration',data=df)\n",
        "d1=len(df[(df['duration']>0)&(df['duration']<20)][df['status']==2].index.values)\n",
        "d2=len(df[(df['duration']>20)&(df['duration']<40)][df['status']==2].index.values)\n",
        "d3=len(df[(df['duration']>40)&(df['duration']<60)][df['status']==2].index.values)\n",
        "d4=len(df[(df['duration']>60)&(df['duration']<80)][df['status']==2].index.values)\n",
        "d5=len(df[(df['duration']>80)&(df['duration']<100)][df['status']==2].index.values)\n",
        "d6=len(df[(df['duration']>100)&(df['duration']<120)][df['status']==2].index.values)\n",
        "plt.subplot(1,3,3)\n",
        "plt.title('Category-wise duration of defaulters')\n",
        "plt.bar([\"0-20\",\"20-40\",\"40-60\",\"60-80\",\"80-100\",\"100-120\"],[d1,d2,d3,d4,d5,d6])\n",
        "plt.xlabel(\"Duration (months)\")\n",
        "plt.ylabel(\"No. of defaulters\")\n",
        "plt.show()"
      ],
      "id": "64e78c8f",
      "execution_count": null,
      "outputs": [
        {
          "output_type": "display_data",
          "data": {
            "image/png": "[encoded data removed]",
            "text/plain": [
              "<Figure size 1080x360 with 3 Axes>"
            ]
          },
          "metadata": {
            "tags": []
          }
        }
      ]
    },
    {
      "cell_type": "markdown",
      "metadata": {
        "id": "793f7a0f"
      },
      "source": [
        "* The variable 'Duration' is positively skewed with presence of outliers.\n",
        "* Defaulters have more duration on an average.\n",
        "* Maximum no. of defaulters have duration of 20-40 months"
      ],
      "id": "793f7a0f"
    },
    {
      "cell_type": "markdown",
      "metadata": {
        "id": "S19cb-N4pf64"
      },
      "source": [
        "**Amount:**"
      ],
      "id": "S19cb-N4pf64"
    },
    {
      "cell_type": "code",
      "metadata": {
        "colab": {
          "base_uri": "https://localhost:8080/",
          "height": 350
        },
        "id": "149e1bbc",
        "outputId": "8ee8c836-5dda-480d-d772-065cf367223f"
      },
      "source": [
        "sns.set_style(\"whitegrid\")\n",
        "plt.figure(figsize=(15,5))\n",
        "plt.subplot(1,3,1)\n",
        "plt.title('Density plot & Histogram of Amount')\n",
        "sns.distplot(df['amount'],rug=True)\n",
        "plt.subplot(1,3,2)\n",
        "plt.title('Comparison through Boxplot of Amount')\n",
        "sns.boxplot(x='status',y='amount',data=df)\n",
        "a1=len(df[(df['amount']>0)&(df['amount']<5000)][df['status']==2].index.values)\n",
        "a2=len(df[(df['amount']>5000)&(df['amount']<10000)][df['status']==2].index.values)\n",
        "a3=len(df[(df['amount']>10000)&(df['amount']<15000)][df['status']==2].index.values)\n",
        "a4=len(df[(df['amount']>15000)&(df['amount']<20000)][df['status']==2].index.values)\n",
        "a5=len(df[(df['amount']>20000)&(df['amount']<25000)][df['status']==2].index.values)\n",
        "a6=len(df[df['amount']>25000][df['status']==2].index.values)\n",
        "plt.subplot(1,3,3)\n",
        "plt.title('Category-wise Credit Amount of defaulters')\n",
        "plt.bar([\"0-5k\",\"5k-10k\",\"10k-15k\",\"15k-20k\",\"20k-25k\",\">25k\"],[a1,a2,a3,a4,a5,a6])\n",
        "plt.xlabel(\"Credit Amount\")\n",
        "plt.ylabel(\"No. of defaulters\")\n",
        "plt.show()"
      ],
      "id": "149e1bbc",
      "execution_count": null,
      "outputs": [
        {
          "output_type": "display_data",
          "data": {
            "image/png": "[encoded data removed]",
            "text/plain": [
              "<Figure size 1080x360 with 3 Axes>"
            ]
          },
          "metadata": {
            "tags": []
          }
        }
      ]
    },
    {
      "cell_type": "markdown",
      "metadata": {
        "id": "5UmIfBrpmT-a"
      },
      "source": [
        "\n",
        "\n",
        "*   'Amount' has highly positively skewed distribution along with the presence of outliers.\n",
        "*   On average the Credit Amount of defaulters and non-defaulters are almost equal but it is visible that the Credit Amount of the defaulters are mostly in the range of 0-5000\n",
        "\n"
      ],
      "id": "5UmIfBrpmT-a"
    },
    {
      "cell_type": "markdown",
      "metadata": {
        "id": "zELz7CUopjtz"
      },
      "source": [
        "**Age:**"
      ],
      "id": "zELz7CUopjtz"
    },
    {
      "cell_type": "code",
      "metadata": {
        "colab": {
          "base_uri": "https://localhost:8080/",
          "height": 350
        },
        "id": "c468b237",
        "outputId": "47364fcf-b0bf-481a-9f41-702370fb42b4"
      },
      "source": [
        "sns.set_style(\"whitegrid\")\n",
        "plt.figure(figsize=(15,5))\n",
        "plt.subplot(1,3,1)\n",
        "plt.title('Density plot & Histogram of Age')\n",
        "sns.distplot(df['age'],rug=True)\n",
        "plt.subplot(1,3,2)\n",
        "plt.title('Comparison through Boxplot of Age')\n",
        "sns.boxplot(x='status',y='age',data=df)\n",
        "age1=len(df[(df['age']>20)&(df['age']<40)][df['status']==2].index.values)\n",
        "age2=len(df[(df['age']>40)&(df['age']<60)][df['status']==2].index.values)\n",
        "age3=len(df[(df['age']>60)&(df['age']<80)][df['status']==2].index.values)\n",
        "age4=len(df[(df['age']>80)&(df['age']<100)][df['status']==2].index.values)\n",
        "plt.subplot(1,3,3)\n",
        "plt.title('Category-wise Age of defaulters')\n",
        "plt.bar([\"20-40\",\"40-60\",\"60-80\",\"80-100\"],[age1,age2,age3,age4])\n",
        "plt.xlabel(\"Age in years\")\n",
        "plt.ylabel(\"No. of defaulters\")\n",
        "plt.show()"
      ],
      "id": "c468b237",
      "execution_count": null,
      "outputs": [
        {
          "output_type": "display_data",
          "data": {
            "image/png": "[encoded data removed]",
            "text/plain": [
              "<Figure size 1080x360 with 3 Axes>"
            ]
          },
          "metadata": {
            "tags": []
          }
        }
      ]
    },
    {
      "cell_type": "markdown",
      "metadata": {
        "id": "qvq7Hwn4nQJz"
      },
      "source": [
        "\n",
        "\n",
        "*   Age is highly positively skewed.\n",
        "*   On an average the defaulters or risky customers are younger in age than the non-defaulters, mostly in the Age group 20-40 years and 40-60 years.\n",
        "\n"
      ],
      "id": "qvq7Hwn4nQJz"
    },
    {
      "cell_type": "markdown",
      "metadata": {
        "id": "HQ8cF1DHoVE8"
      },
      "source": [
        "## Characteristics of risky customers & suitable actions that can be taken based on the continuous variables:\n",
        "\n",
        "*   The services offered to the middle-aged and teenagers are to be checked and secured properly, and if required more constraints are to be imposed on them.\n",
        "*   There may be reliability issues with customers dealing in smaller credit amounts as they are more likely to default.\n",
        "\n"
      ],
      "id": "HQ8cF1DHoVE8"
    },
    {
      "cell_type": "markdown",
      "metadata": {
        "id": "VAHgiHdlptCR"
      },
      "source": [
        "## Feature scaling: -"
      ],
      "id": "VAHgiHdlptCR"
    },
    {
      "cell_type": "code",
      "metadata": {
        "colab": {
          "base_uri": "https://localhost:8080/",
          "height": 439
        },
        "id": "429c4ba2",
        "outputId": "b355792c-62b3-4289-8168-14c9f2e19ab4"
      },
      "source": [
        "import sklearn\n",
        "from sklearn.preprocessing import LabelEncoder\n",
        "df['checkin_acc']=LabelEncoder().fit_transform(df['checkin_acc'])\n",
        "df['credit_history']=LabelEncoder().fit_transform(df['credit_history'])\n",
        "df['purpose']=LabelEncoder().fit_transform(df['purpose'])\n",
        "df['svaing_acc']=LabelEncoder().fit_transform(df['svaing_acc'])\n",
        "df['present_emp_since']=LabelEncoder().fit_transform(df['present_emp_since'])\n",
        "df['personal_status']=LabelEncoder().fit_transform(df['personal_status'])\n",
        "df['other_debtors']=LabelEncoder().fit_transform(df['other_debtors'])\n",
        "df['property']=LabelEncoder().fit_transform(df['property'])\n",
        "df['inst_plans']=LabelEncoder().fit_transform(df['inst_plans'])\n",
        "df['housing']=LabelEncoder().fit_transform(df['housing'])\n",
        "df['job']=LabelEncoder().fit_transform(df['job'])\n",
        "df['telephone']=LabelEncoder().fit_transform(df['telephone'])\n",
        "df['foreign_worker']=LabelEncoder().fit_transform(df['foreign_worker'])\n",
        "df"
      ],
      "id": "429c4ba2",
      "execution_count": null,
      "outputs": [
        {
          "output_type": "execute_result",
          "data": {
            "text/html": [
              "<div>\n",
              "<style scoped>\n",
              "    .dataframe tbody tr th:only-of-type {\n",
              "        vertical-align: middle;\n",
              "    }\n",
              "\n",
              "    .dataframe tbody tr th {\n",
              "        vertical-align: top;\n",
              "    }\n",
              "\n",
              "    .dataframe thead th {\n",
              "        text-align: right;\n",
              "    }\n",
              "</style>\n",
              "<table border=\"1\" class=\"dataframe\">\n",
              "  <thead>\n",
              "    <tr style=\"text-align: right;\">\n",
              "      <th></th>\n",
              "      <th>checkin_acc</th>\n",
              "      <th>duration</th>\n",
              "      <th>credit_history</th>\n",
              "      <th>purpose</th>\n",
              "      <th>amount</th>\n",
              "      <th>svaing_acc</th>\n",
              "      <th>present_emp_since</th>\n",
              "      <th>inst_rate</th>\n",
              "      <th>personal_status</th>\n",
              "      <th>other_debtors</th>\n",
              "      <th>residing_since</th>\n",
              "      <th>property</th>\n",
              "      <th>age</th>\n",
              "      <th>inst_plans</th>\n",
              "      <th>housing</th>\n",
              "      <th>num_credits</th>\n",
              "      <th>job</th>\n",
              "      <th>dependents</th>\n",
              "      <th>telephone</th>\n",
              "      <th>foreign_worker</th>\n",
              "      <th>status</th>\n",
              "    </tr>\n",
              "  </thead>\n",
              "  <tbody>\n",
              "    <tr>\n",
              "      <th>1</th>\n",
              "      <td>1</td>\n",
              "      <td>72</td>\n",
              "      <td>2</td>\n",
              "      <td>4</td>\n",
              "      <td>8927</td>\n",
              "      <td>0</td>\n",
              "      <td>2</td>\n",
              "      <td>3</td>\n",
              "      <td>1</td>\n",
              "      <td>0</td>\n",
              "      <td>3</td>\n",
              "      <td>0</td>\n",
              "      <td>33</td>\n",
              "      <td>2</td>\n",
              "      <td>1</td>\n",
              "      <td>2</td>\n",
              "      <td>2</td>\n",
              "      <td>2</td>\n",
              "      <td>0</td>\n",
              "      <td>0</td>\n",
              "      <td>2</td>\n",
              "    </tr>\n",
              "    <tr>\n",
              "      <th>2</th>\n",
              "      <td>3</td>\n",
              "      <td>18</td>\n",
              "      <td>4</td>\n",
              "      <td>7</td>\n",
              "      <td>3144</td>\n",
              "      <td>0</td>\n",
              "      <td>3</td>\n",
              "      <td>3</td>\n",
              "      <td>2</td>\n",
              "      <td>0</td>\n",
              "      <td>5</td>\n",
              "      <td>0</td>\n",
              "      <td>74</td>\n",
              "      <td>2</td>\n",
              "      <td>1</td>\n",
              "      <td>2</td>\n",
              "      <td>1</td>\n",
              "      <td>3</td>\n",
              "      <td>0</td>\n",
              "      <td>0</td>\n",
              "      <td>1</td>\n",
              "    </tr>\n",
              "    <tr>\n",
              "      <th>3</th>\n",
              "      <td>0</td>\n",
              "      <td>63</td>\n",
              "      <td>2</td>\n",
              "      <td>3</td>\n",
              "      <td>11823</td>\n",
              "      <td>0</td>\n",
              "      <td>3</td>\n",
              "      <td>3</td>\n",
              "      <td>2</td>\n",
              "      <td>2</td>\n",
              "      <td>6</td>\n",
              "      <td>1</td>\n",
              "      <td>68</td>\n",
              "      <td>2</td>\n",
              "      <td>2</td>\n",
              "      <td>2</td>\n",
              "      <td>2</td>\n",
              "      <td>3</td>\n",
              "      <td>0</td>\n",
              "      <td>0</td>\n",
              "      <td>1</td>\n",
              "    </tr>\n",
              "    <tr>\n",
              "      <th>4</th>\n",
              "      <td>0</td>\n",
              "      <td>36</td>\n",
              "      <td>3</td>\n",
              "      <td>0</td>\n",
              "      <td>7305</td>\n",
              "      <td>0</td>\n",
              "      <td>2</td>\n",
              "      <td>5</td>\n",
              "      <td>2</td>\n",
              "      <td>0</td>\n",
              "      <td>6</td>\n",
              "      <td>3</td>\n",
              "      <td>80</td>\n",
              "      <td>2</td>\n",
              "      <td>2</td>\n",
              "      <td>3</td>\n",
              "      <td>2</td>\n",
              "      <td>3</td>\n",
              "      <td>0</td>\n",
              "      <td>0</td>\n",
              "      <td>2</td>\n",
              "    </tr>\n",
              "    <tr>\n",
              "      <th>5</th>\n",
              "      <td>3</td>\n",
              "      <td>54</td>\n",
              "      <td>2</td>\n",
              "      <td>7</td>\n",
              "      <td>13583</td>\n",
              "      <td>4</td>\n",
              "      <td>2</td>\n",
              "      <td>3</td>\n",
              "      <td>2</td>\n",
              "      <td>0</td>\n",
              "      <td>6</td>\n",
              "      <td>3</td>\n",
              "      <td>53</td>\n",
              "      <td>2</td>\n",
              "      <td>2</td>\n",
              "      <td>2</td>\n",
              "      <td>1</td>\n",
              "      <td>3</td>\n",
              "      <td>1</td>\n",
              "      <td>0</td>\n",
              "      <td>1</td>\n",
              "    </tr>\n",
              "    <tr>\n",
              "      <th>...</th>\n",
              "      <td>...</td>\n",
              "      <td>...</td>\n",
              "      <td>...</td>\n",
              "      <td>...</td>\n",
              "      <td>...</td>\n",
              "      <td>...</td>\n",
              "      <td>...</td>\n",
              "      <td>...</td>\n",
              "      <td>...</td>\n",
              "      <td>...</td>\n",
              "      <td>...</td>\n",
              "      <td>...</td>\n",
              "      <td>...</td>\n",
              "      <td>...</td>\n",
              "      <td>...</td>\n",
              "      <td>...</td>\n",
              "      <td>...</td>\n",
              "      <td>...</td>\n",
              "      <td>...</td>\n",
              "      <td>...</td>\n",
              "      <td>...</td>\n",
              "    </tr>\n",
              "    <tr>\n",
              "      <th>995</th>\n",
              "      <td>3</td>\n",
              "      <td>18</td>\n",
              "      <td>2</td>\n",
              "      <td>3</td>\n",
              "      <td>2604</td>\n",
              "      <td>0</td>\n",
              "      <td>3</td>\n",
              "      <td>5</td>\n",
              "      <td>1</td>\n",
              "      <td>0</td>\n",
              "      <td>6</td>\n",
              "      <td>0</td>\n",
              "      <td>47</td>\n",
              "      <td>2</td>\n",
              "      <td>1</td>\n",
              "      <td>2</td>\n",
              "      <td>1</td>\n",
              "      <td>2</td>\n",
              "      <td>0</td>\n",
              "      <td>0</td>\n",
              "      <td>1</td>\n",
              "    </tr>\n",
              "    <tr>\n",
              "      <th>996</th>\n",
              "      <td>0</td>\n",
              "      <td>45</td>\n",
              "      <td>2</td>\n",
              "      <td>1</td>\n",
              "      <td>5786</td>\n",
              "      <td>0</td>\n",
              "      <td>2</td>\n",
              "      <td>6</td>\n",
              "      <td>0</td>\n",
              "      <td>0</td>\n",
              "      <td>6</td>\n",
              "      <td>1</td>\n",
              "      <td>60</td>\n",
              "      <td>2</td>\n",
              "      <td>1</td>\n",
              "      <td>2</td>\n",
              "      <td>3</td>\n",
              "      <td>2</td>\n",
              "      <td>1</td>\n",
              "      <td>0</td>\n",
              "      <td>1</td>\n",
              "    </tr>\n",
              "    <tr>\n",
              "      <th>997</th>\n",
              "      <td>3</td>\n",
              "      <td>18</td>\n",
              "      <td>2</td>\n",
              "      <td>4</td>\n",
              "      <td>1206</td>\n",
              "      <td>0</td>\n",
              "      <td>4</td>\n",
              "      <td>6</td>\n",
              "      <td>2</td>\n",
              "      <td>0</td>\n",
              "      <td>6</td>\n",
              "      <td>2</td>\n",
              "      <td>57</td>\n",
              "      <td>2</td>\n",
              "      <td>1</td>\n",
              "      <td>2</td>\n",
              "      <td>2</td>\n",
              "      <td>2</td>\n",
              "      <td>0</td>\n",
              "      <td>0</td>\n",
              "      <td>1</td>\n",
              "    </tr>\n",
              "    <tr>\n",
              "      <th>998</th>\n",
              "      <td>0</td>\n",
              "      <td>68</td>\n",
              "      <td>2</td>\n",
              "      <td>4</td>\n",
              "      <td>2768</td>\n",
              "      <td>0</td>\n",
              "      <td>2</td>\n",
              "      <td>6</td>\n",
              "      <td>2</td>\n",
              "      <td>0</td>\n",
              "      <td>6</td>\n",
              "      <td>3</td>\n",
              "      <td>35</td>\n",
              "      <td>2</td>\n",
              "      <td>2</td>\n",
              "      <td>2</td>\n",
              "      <td>2</td>\n",
              "      <td>2</td>\n",
              "      <td>1</td>\n",
              "      <td>0</td>\n",
              "      <td>2</td>\n",
              "    </tr>\n",
              "    <tr>\n",
              "      <th>999</th>\n",
              "      <td>1</td>\n",
              "      <td>68</td>\n",
              "      <td>4</td>\n",
              "      <td>1</td>\n",
              "      <td>6864</td>\n",
              "      <td>1</td>\n",
              "      <td>0</td>\n",
              "      <td>5</td>\n",
              "      <td>2</td>\n",
              "      <td>0</td>\n",
              "      <td>6</td>\n",
              "      <td>2</td>\n",
              "      <td>41</td>\n",
              "      <td>2</td>\n",
              "      <td>1</td>\n",
              "      <td>2</td>\n",
              "      <td>2</td>\n",
              "      <td>2</td>\n",
              "      <td>0</td>\n",
              "      <td>0</td>\n",
              "      <td>1</td>\n",
              "    </tr>\n",
              "  </tbody>\n",
              "</table>\n",
              "<p>987 rows × 21 columns</p>\n",
              "</div>"
            ],
            "text/plain": [
              "     checkin_acc  duration  credit_history  ...  telephone  foreign_worker  status\n",
              "1              1        72               2  ...          0               0       2\n",
              "2              3        18               4  ...          0               0       1\n",
              "3              0        63               2  ...          0               0       1\n",
              "4              0        36               3  ...          0               0       2\n",
              "5              3        54               2  ...          1               0       1\n",
              "..           ...       ...             ...  ...        ...             ...     ...\n",
              "995            3        18               2  ...          0               0       1\n",
              "996            0        45               2  ...          1               0       1\n",
              "997            3        18               2  ...          0               0       1\n",
              "998            0        68               2  ...          1               0       2\n",
              "999            1        68               4  ...          0               0       1\n",
              "\n",
              "[987 rows x 21 columns]"
            ]
          },
          "metadata": {
            "tags": []
          },
          "execution_count": 27
        }
      ]
    },
    {
      "cell_type": "markdown",
      "metadata": {
        "id": "FP5itW0rZEqC"
      },
      "source": [
        "## Processed exported file for model building: -"
      ],
      "id": "FP5itW0rZEqC"
    },
    {
      "cell_type": "code",
      "metadata": {
        "colab": {
          "base_uri": "https://localhost:8080/",
          "height": 17
        },
        "id": "sRDOZXHRUHLM",
        "outputId": "abcc49e7-07b6-4225-e7e4-c7a92d08c294"
      },
      "source": [
        "from google.colab import files\n",
        "df.to_csv('file_for_modelbuilding.csv',sep='\\t')\n",
        "files.download('file_for_modelbuilding.csv')"
      ],
      "id": "sRDOZXHRUHLM",
      "execution_count": null,
      "outputs": [
        {
          "output_type": "display_data",
          "data": {
            "application/javascript": [
              "\n",
              "    async function download(id, filename, size) {\n",
              "      if (!google.colab.kernel.accessAllowed) {\n",
              "        return;\n",
              "      }\n",
              "      const div = document.createElement('div');\n",
              "      const label = document.createElement('label');\n",
              "      label.textContent = `Downloading \"${filename}\": `;\n",
              "      div.appendChild(label);\n",
              "      const progress = document.createElement('progress');\n",
              "      progress.max = size;\n",
              "      div.appendChild(progress);\n",
              "      document.body.appendChild(div);\n",
              "\n",
              "      const buffers = [];\n",
              "      let downloaded = 0;\n",
              "\n",
              "      const channel = await google.colab.kernel.comms.open(id);\n",
              "      // Send a message to notify the kernel that we're ready.\n",
              "      channel.send({})\n",
              "\n",
              "      for await (const message of channel.messages) {\n",
              "        // Send a message to notify the kernel that we're ready.\n",
              "        channel.send({})\n",
              "        if (message.buffers) {\n",
              "          for (const buffer of message.buffers) {\n",
              "            buffers.push(buffer);\n",
              "            downloaded += buffer.byteLength;\n",
              "            progress.value = downloaded;\n",
              "          }\n",
              "        }\n",
              "      }\n",
              "      const blob = new Blob(buffers, {type: 'application/binary'});\n",
              "      const a = document.createElement('a');\n",
              "      a.href = window.URL.createObjectURL(blob);\n",
              "      a.download = filename;\n",
              "      div.appendChild(a);\n",
              "      a.click();\n",
              "      div.remove();\n",
              "    }\n",
              "  "
            ],
            "text/plain": [
              "<IPython.core.display.Javascript object>"
            ]
          },
          "metadata": {
            "tags": []
          }
        },
        {
          "output_type": "display_data",
          "data": {
            "application/javascript": [
              "download(\"download_cb5ae54d-eca3-46f2-8759-b7259b31c9c4\", \"file_for_modelbuilding.csv\", 50458)"
            ],
            "text/plain": [
              "<IPython.core.display.Javascript object>"
            ]
          },
          "metadata": {
            "tags": []
          }
        }
      ]
    },
    {
      "cell_type": "markdown",
      "metadata": {
        "id": "vZfYRrXAj0oc"
      },
      "source": [
        "## Identification of risky customers (those who are likely to default): -"
      ],
      "id": "vZfYRrXAj0oc"
    },
    {
      "cell_type": "markdown",
      "metadata": {
        "id": "hf0OcgLLkJ23"
      },
      "source": [
        "**Fitting Logistic Regression model: -**"
      ],
      "id": "hf0OcgLLkJ23"
    },
    {
      "cell_type": "code",
      "metadata": {
        "id": "a62b863b"
      },
      "source": [
        "import sklearn\n",
        "from sklearn.model_selection import train_test_split\n",
        "train_dataset,test_dataset = train_test_split(df,test_size=0.3,stratify=df[['status']])"
      ],
      "id": "a62b863b",
      "execution_count": null,
      "outputs": []
    },
    {
      "cell_type": "code",
      "metadata": {
        "colab": {
          "base_uri": "https://localhost:8080/"
        },
        "id": "9371b000",
        "outputId": "d35c06a9-e09e-44c9-a044-0bf3914d6224"
      },
      "source": [
        "x_train=train_dataset.drop(\"status\",axis=1)\n",
        "y_train=train_dataset[\"status\"]\n",
        "x_test=test_dataset.drop(\"status\",axis=1)\n",
        "y_test=test_dataset[\"status\"]\n",
        "print(x_train.shape,y_train.shape)\n",
        "print(x_test.shape,y_test.shape)"
      ],
      "id": "9371b000",
      "execution_count": null,
      "outputs": [
        {
          "output_type": "stream",
          "text": [
            "(690, 20) (690,)\n",
            "(297, 20) (297,)\n"
          ],
          "name": "stdout"
        }
      ]
    },
    {
      "cell_type": "code",
      "metadata": {
        "id": "4a10f82c"
      },
      "source": [
        "from sklearn.preprocessing import StandardScaler\n",
        "scaler=StandardScaler()\n",
        "x_train_std=scaler.fit_transform(x_train)\n",
        "x_test_std=scaler.transform(x_test)"
      ],
      "id": "4a10f82c",
      "execution_count": null,
      "outputs": []
    },
    {
      "cell_type": "markdown",
      "metadata": {
        "id": "r6jLllLSkbMi"
      },
      "source": [
        "**Hyperparameter tuning: -**"
      ],
      "id": "r6jLllLSkbMi"
    },
    {
      "cell_type": "code",
      "metadata": {
        "id": "ca85cb2e"
      },
      "source": [
        "from sklearn.model_selection import GridSearchCV\n",
        "grid={\"C\":[0.1,0.2,0.3,0.4,0.5,0.6,0.7,0.8,0.9,1,2,3,4,5,6,7,8,9,10],\"penalty\":[\"l1\",\"l2\"]}"
      ],
      "id": "ca85cb2e",
      "execution_count": null,
      "outputs": []
    },
    {
      "cell_type": "code",
      "metadata": {
        "colab": {
          "base_uri": "https://localhost:8080/"
        },
        "id": "4e03f80e",
        "outputId": "009427b6-e675-4184-c4cf-cbd6c9b5b287"
      },
      "source": [
        "from sklearn.linear_model import LogisticRegression\n",
        "score=GridSearchCV(LogisticRegression(solver='liblinear'),grid).fit(x_train_std,y_train)\n",
        "print(score.best_params_)\n",
        "print(score.best_score_)"
      ],
      "id": "4e03f80e",
      "execution_count": null,
      "outputs": [
        {
          "output_type": "stream",
          "text": [
            "{'C': 2, 'penalty': 'l1'}\n",
            "0.7724637681159421\n"
          ],
          "name": "stdout"
        }
      ]
    },
    {
      "cell_type": "code",
      "metadata": {
        "id": "9a182f67"
      },
      "source": [
        "LR=LogisticRegression(solver=\"liblinear\",penalty='l1',C=2).fit(x_train_std,y_train)\n",
        "y_predict=LR.predict(x_test_std)"
      ],
      "id": "9a182f67",
      "execution_count": null,
      "outputs": []
    },
    {
      "cell_type": "markdown",
      "metadata": {
        "id": "q2cMQul_isW6"
      },
      "source": [
        "## Checking model adequacy measures: -"
      ],
      "id": "q2cMQul_isW6"
    },
    {
      "cell_type": "code",
      "metadata": {
        "colab": {
          "base_uri": "https://localhost:8080/"
        },
        "id": "f56f750c",
        "outputId": "53b11d04-5667-41c2-ef71-533f441464ab"
      },
      "source": [
        "from sklearn.metrics import classification_report,accuracy_score,precision_score,recall_score,f1_score\n",
        "from sklearn.metrics import confusion_matrix\n",
        "acc=accuracy_score(y_test,y_predict)\n",
        "prec = precision_score(y_test,y_predict)\n",
        "rec = recall_score(y_test,y_predict)\n",
        "F1_score = f1_score(y_test,y_predict)\n",
        "print(\"The accuracy on the test dataset is {:,.4f}\".format(acc))\n",
        "print(\"Precision score on the test dataset is {:,.4f}\".format(prec))\n",
        "print(\"Recall score on the test dataset is {:,.4f}\".format(rec))\n",
        "print(\"F score on the test dataset is {:,.4f}\".format(F1_score))"
      ],
      "id": "f56f750c",
      "execution_count": null,
      "outputs": [
        {
          "output_type": "stream",
          "text": [
            "The accuracy on the test dataset is 0.7273\n",
            "Precision score on the test dataset is 0.7797\n",
            "Recall score on the test dataset is 0.8510\n",
            "F score on the test dataset is 0.8138\n"
          ],
          "name": "stdout"
        }
      ]
    },
    {
      "cell_type": "markdown",
      "metadata": {
        "id": "MbqIuznthb0h"
      },
      "source": [
        "## Feature Importance on the basis of the fitted model: -"
      ],
      "id": "MbqIuznthb0h"
    },
    {
      "cell_type": "code",
      "metadata": {
        "colab": {
          "base_uri": "https://localhost:8080/",
          "height": 669
        },
        "id": "e33ce8ea",
        "outputId": "fdbf08c8-4ce3-4b1e-b39d-4be0afbe6821"
      },
      "source": [
        "importances = pd.DataFrame(data={\n",
        "    'Variables': x_train.columns,\n",
        "    'Relative Importance': (abs(LR.coef_[0])/np.sum(abs(LR.coef_[0])))*100\n",
        "})\n",
        "importances = importances.sort_values(by='Relative Importance', ascending=False)\n",
        "importances"
      ],
      "id": "e33ce8ea",
      "execution_count": null,
      "outputs": [
        {
          "output_type": "execute_result",
          "data": {
            "text/html": [
              "<div>\n",
              "<style scoped>\n",
              "    .dataframe tbody tr th:only-of-type {\n",
              "        vertical-align: middle;\n",
              "    }\n",
              "\n",
              "    .dataframe tbody tr th {\n",
              "        vertical-align: top;\n",
              "    }\n",
              "\n",
              "    .dataframe thead th {\n",
              "        text-align: right;\n",
              "    }\n",
              "</style>\n",
              "<table border=\"1\" class=\"dataframe\">\n",
              "  <thead>\n",
              "    <tr style=\"text-align: right;\">\n",
              "      <th></th>\n",
              "      <th>Variables</th>\n",
              "      <th>Relative Importance</th>\n",
              "    </tr>\n",
              "  </thead>\n",
              "  <tbody>\n",
              "    <tr>\n",
              "      <th>0</th>\n",
              "      <td>checkin_acc</td>\n",
              "      <td>16.535301</td>\n",
              "    </tr>\n",
              "    <tr>\n",
              "      <th>2</th>\n",
              "      <td>credit_history</td>\n",
              "      <td>10.248260</td>\n",
              "    </tr>\n",
              "    <tr>\n",
              "      <th>1</th>\n",
              "      <td>duration</td>\n",
              "      <td>8.491921</td>\n",
              "    </tr>\n",
              "    <tr>\n",
              "      <th>5</th>\n",
              "      <td>svaing_acc</td>\n",
              "      <td>8.360408</td>\n",
              "    </tr>\n",
              "    <tr>\n",
              "      <th>4</th>\n",
              "      <td>amount</td>\n",
              "      <td>6.300322</td>\n",
              "    </tr>\n",
              "    <tr>\n",
              "      <th>6</th>\n",
              "      <td>present_emp_since</td>\n",
              "      <td>6.037333</td>\n",
              "    </tr>\n",
              "    <tr>\n",
              "      <th>13</th>\n",
              "      <td>inst_plans</td>\n",
              "      <td>5.979555</td>\n",
              "    </tr>\n",
              "    <tr>\n",
              "      <th>7</th>\n",
              "      <td>inst_rate</td>\n",
              "      <td>5.618549</td>\n",
              "    </tr>\n",
              "    <tr>\n",
              "      <th>11</th>\n",
              "      <td>property</td>\n",
              "      <td>3.970101</td>\n",
              "    </tr>\n",
              "    <tr>\n",
              "      <th>19</th>\n",
              "      <td>foreign_worker</td>\n",
              "      <td>3.830458</td>\n",
              "    </tr>\n",
              "    <tr>\n",
              "      <th>8</th>\n",
              "      <td>personal_status</td>\n",
              "      <td>3.765632</td>\n",
              "    </tr>\n",
              "    <tr>\n",
              "      <th>15</th>\n",
              "      <td>num_credits</td>\n",
              "      <td>3.429689</td>\n",
              "    </tr>\n",
              "    <tr>\n",
              "      <th>10</th>\n",
              "      <td>residing_since</td>\n",
              "      <td>3.398523</td>\n",
              "    </tr>\n",
              "    <tr>\n",
              "      <th>18</th>\n",
              "      <td>telephone</td>\n",
              "      <td>3.146641</td>\n",
              "    </tr>\n",
              "    <tr>\n",
              "      <th>16</th>\n",
              "      <td>job</td>\n",
              "      <td>2.957134</td>\n",
              "    </tr>\n",
              "    <tr>\n",
              "      <th>14</th>\n",
              "      <td>housing</td>\n",
              "      <td>2.621407</td>\n",
              "    </tr>\n",
              "    <tr>\n",
              "      <th>12</th>\n",
              "      <td>age</td>\n",
              "      <td>2.487987</td>\n",
              "    </tr>\n",
              "    <tr>\n",
              "      <th>9</th>\n",
              "      <td>other_debtors</td>\n",
              "      <td>2.293444</td>\n",
              "    </tr>\n",
              "    <tr>\n",
              "      <th>17</th>\n",
              "      <td>dependents</td>\n",
              "      <td>0.490217</td>\n",
              "    </tr>\n",
              "    <tr>\n",
              "      <th>3</th>\n",
              "      <td>purpose</td>\n",
              "      <td>0.037118</td>\n",
              "    </tr>\n",
              "  </tbody>\n",
              "</table>\n",
              "</div>"
            ],
            "text/plain": [
              "            Variables  Relative Importance\n",
              "0         checkin_acc            16.535301\n",
              "2      credit_history            10.248260\n",
              "1            duration             8.491921\n",
              "5          svaing_acc             8.360408\n",
              "4              amount             6.300322\n",
              "6   present_emp_since             6.037333\n",
              "13         inst_plans             5.979555\n",
              "7           inst_rate             5.618549\n",
              "11           property             3.970101\n",
              "19     foreign_worker             3.830458\n",
              "8     personal_status             3.765632\n",
              "15        num_credits             3.429689\n",
              "10     residing_since             3.398523\n",
              "18          telephone             3.146641\n",
              "16                job             2.957134\n",
              "14            housing             2.621407\n",
              "12                age             2.487987\n",
              "9       other_debtors             2.293444\n",
              "17         dependents             0.490217\n",
              "3             purpose             0.037118"
            ]
          },
          "metadata": {
            "tags": []
          },
          "execution_count": 41
        }
      ]
    },
    {
      "cell_type": "markdown",
      "metadata": {
        "id": "yLZZD_oFh44t"
      },
      "source": [
        "**So, Status of existing checking account & Credit History of the customers play the most important role in identifying the risky customers**"
      ],
      "id": "yLZZD_oFh44t"
    }
  ]
}